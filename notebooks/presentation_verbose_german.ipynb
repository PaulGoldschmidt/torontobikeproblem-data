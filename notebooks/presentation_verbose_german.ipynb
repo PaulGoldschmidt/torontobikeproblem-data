{
 "cells": [
  {
   "cell_type": "code",
   "execution_count": 1,
   "metadata": {},
   "outputs": [],
   "source": [
    "import pandas as pd"
   ]
  },
  {
   "attachments": {},
   "cell_type": "markdown",
   "metadata": {},
   "source": [
    "# Projekt: Toronto Bike Sharing"
   ]
  },
  {
   "attachments": {},
   "cell_type": "markdown",
   "metadata": {},
   "source": [
    "Bike Share Toronto (https://bikesharetoronto.com/) ist ein städtisches System mit ~630 Stationen und ~7000 Rädern\n",
    "(https://en.wikipedia.org/wiki/Bike_Share_Toronto).\n",
    "\n",
    "Für jede Reise werden Daten (z.B. von wo nach wo, wie lange dauerte die Fahrt) gesammelt, die online verfügbar sind (https://open.toronto.ca/dataset/bike-share-toronto-ridership-data/).\n",
    "\n",
    "Die Datenfelder sind\n",
    "* Trip ID [int]\n",
    "* Trip Duration [s, int]\n",
    "* Trip Start Station ID [int]\n",
    "* Trip Start time [timestamp]\n",
    "* Trip Start Station Name [string]\n",
    "* Trip End Station ID [int]\n",
    "* Trip End Time [timestamp]\n",
    "* Trip End Station Name [string]\n",
    "* Bike ID [int]\n",
    "* User type [string, eigentlich boolean 0/1 (member/casual)]\n",
    "\n",
    "Mit diesen Daten wollen wir einige Analysen betreiben -- ja wir spielen :)\n",
    "Als beispielhafte Aufgabe wollen wir z.B. für jede Station vorhersagen, wie viele Räder dort für einen gegebenen Tag ausgeliehen werden."
   ]
  },
  {
   "attachments": {},
   "cell_type": "markdown",
   "metadata": {},
   "source": [
    "Nach dem Installieren des Packets (siehe Setup.md)\n",
    "Das Herunterladen und Bereinigen der Daten ist am Einfachsten über das Skript aus dem \"entry_points\" Verzeichnis:\n",
    "\n",
    "``` $ poetry install ```\n",
    "\n",
    "``` (bike-share-py3.10) $ python entry_points/load_data.py ```\n",
    "\n",
    "Als Warnung: Die tägliche Arbeit eines Data Scientist besteht zu 80% daraus, Daten zu bereinigen und vielleicht zu 20% daraus statistische Modelle zu bauen und zu trainieren."
   ]
  },
  {
   "attachments": {},
   "cell_type": "markdown",
   "metadata": {},
   "source": [
    "# Lineare Regression"
   ]
  },
  {
   "attachments": {},
   "cell_type": "markdown",
   "metadata": {},
   "source": [
    "Bei vielen Analysen wollen wir eine Zahl $y$, gegeben einige Eingabeparameter $x$, vorhersagen -- diese Problemklasse nennt man \"Regression\".\n",
    "Ein Beispiel wäre, dass wir den Preis eines Hauses ($y$) prognostizieren wollen, gegeben einige Parameter ($x$) des Hauses (Anzahl Zimmer, Größe in $m²$, Alter, ...).\n",
    "\n",
    "Wir wollen also die Ausgaben einer unbekannte Funktion $f : \\mathbb{R}^n \\to \\mathbb{R}$ schätzen.\n",
    "Genauer, wir haben $N$ Beispiele $(x_i, f(x_i)) : i=0,..,N$ gegeben und wollen nun $f(x)$ für einige neue Punkte $x$ prognostizieren."
   ]
  },
  {
   "attachments": {},
   "cell_type": "markdown",
   "metadata": {},
   "source": [
    "Beispiel:"
   ]
  },
  {
   "cell_type": "code",
   "execution_count": 4,
   "metadata": {},
   "outputs": [],
   "source": [
    "df = pd.read_csv(\"../data/Howell1.csv\", sep=\";\")"
   ]
  },
  {
   "cell_type": "code",
   "execution_count": 7,
   "metadata": {},
   "outputs": [
    {
     "data": {
      "text/html": [
       "<div>\n",
       "<style scoped>\n",
       "    .dataframe tbody tr th:only-of-type {\n",
       "        vertical-align: middle;\n",
       "    }\n",
       "\n",
       "    .dataframe tbody tr th {\n",
       "        vertical-align: top;\n",
       "    }\n",
       "\n",
       "    .dataframe thead th {\n",
       "        text-align: right;\n",
       "    }\n",
       "</style>\n",
       "<table border=\"1\" class=\"dataframe\">\n",
       "  <thead>\n",
       "    <tr style=\"text-align: right;\">\n",
       "      <th></th>\n",
       "      <th>height</th>\n",
       "      <th>weight</th>\n",
       "      <th>age</th>\n",
       "      <th>male</th>\n",
       "    </tr>\n",
       "  </thead>\n",
       "  <tbody>\n",
       "    <tr>\n",
       "      <th>0</th>\n",
       "      <td>151.765</td>\n",
       "      <td>47.825606</td>\n",
       "      <td>63.0</td>\n",
       "      <td>1</td>\n",
       "    </tr>\n",
       "    <tr>\n",
       "      <th>1</th>\n",
       "      <td>139.700</td>\n",
       "      <td>36.485807</td>\n",
       "      <td>63.0</td>\n",
       "      <td>0</td>\n",
       "    </tr>\n",
       "    <tr>\n",
       "      <th>2</th>\n",
       "      <td>136.525</td>\n",
       "      <td>31.864838</td>\n",
       "      <td>65.0</td>\n",
       "      <td>0</td>\n",
       "    </tr>\n",
       "    <tr>\n",
       "      <th>3</th>\n",
       "      <td>156.845</td>\n",
       "      <td>53.041914</td>\n",
       "      <td>41.0</td>\n",
       "      <td>1</td>\n",
       "    </tr>\n",
       "    <tr>\n",
       "      <th>4</th>\n",
       "      <td>145.415</td>\n",
       "      <td>41.276872</td>\n",
       "      <td>51.0</td>\n",
       "      <td>0</td>\n",
       "    </tr>\n",
       "  </tbody>\n",
       "</table>\n",
       "</div>"
      ],
      "text/plain": [
       "    height     weight   age  male\n",
       "0  151.765  47.825606  63.0     1\n",
       "1  139.700  36.485807  63.0     0\n",
       "2  136.525  31.864838  65.0     0\n",
       "3  156.845  53.041914  41.0     1\n",
       "4  145.415  41.276872  51.0     0"
      ]
     },
     "execution_count": 7,
     "metadata": {},
     "output_type": "execute_result"
    }
   ],
   "source": [
    "df.head()"
   ]
  },
  {
   "cell_type": "code",
   "execution_count": 10,
   "metadata": {},
   "outputs": [
    {
     "data": {
      "text/plain": [
       "<AxesSubplot: xlabel='age', ylabel='height'>"
      ]
     },
     "execution_count": 10,
     "metadata": {},
     "output_type": "execute_result"
    },
    {
     "data": {
      "image/png": "[encoded data removed]",
      "text/plain": [
       "<Figure size 640x480 with 1 Axes>"
      ]
     },
     "metadata": {},
     "output_type": "display_data"
    }
   ],
   "source": [
    "df.plot.scatter(x=\"age\", y=\"height\")"
   ]
  },
  {
   "attachments": {},
   "cell_type": "markdown",
   "metadata": {},
   "source": [
    "In diesem Beispiel besteht $x$ nur aus einer Ausprägung: \"age\", im Allgemeinen ist $x$ aber ein Vektor $(x_1, ..., x_n)$"
   ]
  },
  {
   "attachments": {},
   "cell_type": "markdown",
   "metadata": {},
   "source": [
    "Bei *linerarer* Regression, nehmen wir als Ansatz/Modell eine lineare Funktion für $f$ an. In unserem Beispiel also $y = a\\cdot x + b$.\n",
    "Die beiden Koeffizienten $a$ und $b$ sind noch unbestimmt und sind die freien Parameter unseres Modells. Wir bestimmen $a$ und $b$ so, dass unsere Daten \"gut\" zu dem Modell passen.\n",
    "Weil wir (viel) mehr Datenpunkte als Parameter haben wird der Zusammenhang $y = a\\cdot x + b$ niemals *exakt* erfüllt sein (und das wäre sogar nichtmal gut!), wir wählen stattdessen $a$ und $b$ so, dass die *mittlere quadratische Abweichung* von $f$ und den Daten minimiert wird.\n",
    "\n",
    "In anderen Worten, wir wählen $a,b$ so, dass im Mittel über alle Datenpunkte $(x,y)$, $(a\\cdot x + b - y)^2$ möglichst klein wird.\n",
    "(die Abweichung vom Modell zur Realität, wobei wir Abweichungen quadratisch werten, d.h. größere Abweichungen werden stärker bestraft.)\n",
    "\n",
    "Nochmal genauer formuliert: Gegeben n Paare von Datenpunkten $(x^{(1)}, y^{(1)}), ..., (x^{(n)}, y^{(n)})$\n",
    "suchen wir $a,b$ so dass der Ausdruck\n",
    "\n",
    "$\\frac{1}{n} \\sum_{i=1}^n (a\\cdot x^{(i)} + b - y^{(i)})^2$\n",
    "\n",
    "minimal wird."
   ]
  },
  {
   "attachments": {},
   "cell_type": "markdown",
   "metadata": {},
   "source": [
    "$\\frac{1}{n} \\sum_{i=1}^n |A \\cdot x - y|_2^2 $"
   ]
  },
  {
   "attachments": {},
   "cell_type": "markdown",
   "metadata": {},
   "source": [
    "# Evaluation"
   ]
  },
  {
   "cell_type": "markdown",
   "metadata": {},
   "source": []
  },
  {
   "attachments": {},
   "cell_type": "markdown",
   "metadata": {},
   "source": [
    "# Aufgabe:\n",
    "1. Mache Dich mit den Daten vertraut (download, Einlesen)\n",
    "2. Hauptaufgabe: Für jeden Tag und Station voraussagen, wie viele Fahrräder dort ausgeliehen werden.\n",
    "3. Nebenaufgaben (erstmal ein Modell für Frage 2 Bauen und evaluieren!):\n",
    " * Was könnten andere Maßzahlen als \"tägliche Anzahl Ausleihvorgänge\" sein, die vielleicht hilfreich(er) sind?\n",
    " * Welchen Einfluss hatte Covid-19 auf das Ausleihverhalten?\n",
    " * Graphische Darstellung auf der Karte von Toronto"
   ]
  },
  {
   "cell_type": "markdown",
   "metadata": {},
   "source": []
  },
  {
   "attachments": {},
   "cell_type": "markdown",
   "metadata": {},
   "source": [
    "# Links\n",
    "\n",
    "## Nützliche Dokumentationen\n",
    "https://pandas.pydata.org/docs/user_guide/indexing.html\n",
    "\n",
    "https://pandas.pydata.org/docs/user_guide/merging.html\n",
    "\n",
    "https://pandas.pydata.org/docs/reference/api/pandas.DataFrame.groupby.html\n",
    "\n",
    "https://pandas.pydata.org/docs/reference/api/pandas.DataFrame.resample.html\n",
    "\n",
    "## weitere Links\n",
    "https://bikesharetoronto.com/faq/\n",
    "\n",
    "https://www.kaggle.com/code/yclaudel/see-the-flow-of-bikes/notebook\n",
    "(da wird auch beschrieben, wie man an die Stations-Daten https://tor.publicbikesystem.net/ube/gbfs/v1/en/station_information kommt)\n",
    "\n",
    "https://tellingstorieswithdata.com/inputs/pdfs/paper_one-2022-hudson_yuen.pdf\n",
    "\n",
    "https://toronto.weatherstats.ca/download.html (3 Jahre = 1095 Tage)\n",
    "\n",
    "https://opendata.stackexchange.com/questions/7793/age-weight-and-height-dataset (Referenz auf https://github.com/rmcelreath/rethinking/blob/master/data/Howell1.csv und https://github.com/rmcelreath/rethinking/blob/master/data/Howell2.csv)\n"
   ]
  }
 ],
 "metadata": {
  "kernelspec": {
   "display_name": "bike-share-EaMkQB_Z-py3.10",
   "language": "python",
   "name": "python3"
  },
  "language_info": {
   "codemirror_mode": {
    "name": "ipython",
    "version": 3
   },
   "file_extension": ".py",
   "mimetype": "text/x-python",
   "name": "python",
   "nbconvert_exporter": "python",
   "pygments_lexer": "ipython3",
   "version": "3.10.6"
  },
  "orig_nbformat": 4,
  "vscode": {
   "interpreter": {
    "hash": "9cbeb47078aa45888cfdfe1cd418c35bbe08d87096f232f3b2802300757ee231"
   }
  }
 },
 "nbformat": 4,
 "nbformat_minor": 2
}
