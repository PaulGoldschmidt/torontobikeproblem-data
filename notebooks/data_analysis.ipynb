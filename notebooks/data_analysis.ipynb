{
    "cells": [
        {
            "cell_type": "code",
            "execution_count": null,
            "metadata": {},
            "outputs": [],
            "source": [
                "import pathlib\n",
                "import shutil\n",
                "import glob\n",
                "import os\n",
                "import re\n",
                "import ftfy\n",
                "import pandas as pd\n",
                "import statsmodels.api as sm\n",
                "import numpy as np\n",
                "import sklearn.metrics as metrics\n",
                "\n",
                "import sklearn\n",
                "import sklearn.linear_model\n",
                "\n",
                "pd.options.display.max_rows = 1000\n",
                "%load_ext autoreload\n",
                "%autoreload 2"
            ]
        },
        {
            "cell_type": "code",
            "execution_count": null,
            "metadata": {},
            "outputs": [],
            "source": [
                "df = pd.read_csv(\"consolidated_DF_2019_2019.csv\", parse_dates=[\"trip_start_time\", \"trip_stop_time\"])\n",
                "rng = np.random.default_rng(42)\n",
                "sampled_df = df.sample(n=200000, random_state=rng)\n",
                "df = sampled_df"
            ]
        },
        {
            "cell_type": "code",
            "execution_count": null,
            "metadata": {},
            "outputs": [],
            "source": [
                "df[\"trip_start_daily_minutes\"] = df[\"trip_start_time\"].apply(lambda x: x.hour*60 + x.minute)\n",
                "df[\"is_casual\"] = df[\"is_casual\"]*1"
            ]
        },
        {
            "cell_type": "code",
            "execution_count": null,
            "metadata": {},
            "outputs": [],
            "source": [
                "df[\"trip_binned_daytime\"] = np.floor(df[\"trip_start_daily_minutes\"]/(1*60))\n",
                "df[\"trip_binned_daytime\"] = df[\"trip_binned_daytime\"].astype(int)"
            ]
        },
        {
            "cell_type": "code",
            "execution_count": null,
            "metadata": {},
            "outputs": [],
            "source": [
                "df[\"trip_binned_daytime\"].hist(bins=100)"
            ]
        },
        {
            "cell_type": "code",
            "execution_count": null,
            "metadata": {},
            "outputs": [],
            "source": [
                "oh_hours_df = pd.get_dummies(df[\"trip_binned_daytime\"])\n",
                "oh_station_id_df = pd.get_dummies(df[\"from_station_id\"])"
            ]
        },
        {
            "cell_type": "code",
            "execution_count": null,
            "metadata": {},
            "outputs": [],
            "source": [
                "df[\"trip_start_daily_minutes\"].hist(bins=100)"
            ]
        },
        {
            "cell_type": "code",
            "execution_count": null,
            "metadata": {},
            "outputs": [],
            "source": [
                "(df[\"trip_duration_seconds\"]).apply(np.log).hist(bins=100)"
            ]
        },
        {
            "cell_type": "code",
            "execution_count": null,
            "metadata": {},
            "outputs": [],
            "source": [
                "regression = sklearn.linear_model.LinearRegression()"
            ]
        },
        {
            "cell_type": "code",
            "execution_count": null,
            "metadata": {},
            "outputs": [],
            "source": [
                "reg_features=\"trip_start_daily_minutes\"\n",
                "target = \"trip_duration_seconds\""
            ]
        },
        {
            "cell_type": "code",
            "execution_count": null,
            "metadata": {},
            "outputs": [],
            "source": [
                "hours_df = oh_hours_df.drop(columns = oh_hours_df.columns[0])"
            ]
        },
        {
            "cell_type": "code",
            "execution_count": null,
            "metadata": {},
            "outputs": [],
            "source": [
                "station_df = oh_station_id_df.drop(columns= oh_station_id_df.columns[0])"
            ]
        },
        {
            "cell_type": "code",
            "execution_count": null,
            "metadata": {},
            "outputs": [],
            "source": [
                "x_df = pd.concat([hours_df, station_df, df[\"is_casual\"]], axis=1)\n",
                "x_df.columns = [str(x) for x in x_df.columns]"
            ]
        },
        {
            "cell_type": "code",
            "execution_count": null,
            "metadata": {},
            "outputs": [],
            "source": [
                "y = df[target]"
            ]
        },
        {
            "cell_type": "code",
            "execution_count": null,
            "metadata": {},
            "outputs": [],
            "source": [
                "model = regression.fit(x_df,y)"
            ]
        },
        {
            "cell_type": "code",
            "execution_count": null,
            "metadata": {},
            "outputs": [],
            "source": [
                "def regression_results(x, y_true, model):\n",
                "    colnames = x.columns\n",
                "\n",
                "    y_pred = model.predict(x)\n",
                "    # Regression metrics\n",
                "    col_coeffs = zip(model.coef_, colnames)\n",
                "    col_coeffs_sorted = sorted(col_coeffs)\n",
                "\n",
                "    r2=metrics.r2_score(y_true, y_pred)\n",
                "\n",
                "\n",
                "    print(f\"R^2: {round(r2,4)}\")\n",
                "    print(f\"Intercept: {model.intercept_}\")\n",
                "    print(f\"Top-5 coeffs: {col_coeffs_sorted[:10]}\")\n",
                "\n"
            ]
        },
        {
            "cell_type": "code",
            "execution_count": null,
            "metadata": {},
            "outputs": [],
            "source": [
                "regression_results(x_df, y, model)"
            ]
        }
    ],
    "metadata": {
        "kernelspec": {
            "display_name": "bike-share-EaMkQB_Z-py3.10",
            "language": "python",
            "name": "python3"
        },
        "language_info": {
            "codemirror_mode": {
                "name": "ipython",
                "version": 3
            },
            "file_extension": ".py",
            "mimetype": "text/x-python",
            "name": "python",
            "nbconvert_exporter": "python",
            "pygments_lexer": "ipython3",
            "version": "3.10.6"
        },
        "orig_nbformat": 4,
        "vscode": {
            "interpreter": {
                "hash": "9cbeb47078aa45888cfdfe1cd418c35bbe08d87096f232f3b2802300757ee231"
            }
        }
    },
    "nbformat": 4,
    "nbformat_minor": 2
}
