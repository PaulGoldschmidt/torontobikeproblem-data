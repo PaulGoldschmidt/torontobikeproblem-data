{
    "cells": [
        {
            "cell_type": "code",
            "execution_count": null,
            "metadata": {},
            "outputs": [],
            "source": [
                "import pathlib\n",
                "import shutil\n",
                "import glob\n",
                "import os\n",
                "import re\n",
                "import ftfy\n",
                "import pandas as pd\n",
                "import statsmodels.api as sm\n",
                "import numpy as np\n",
                "\n",
                "import sklearn\n",
                "import sklearn.linear_model\n",
                "\n",
                "import bike_share.eval\n",
                "import bike_share.utils as ut\n",
                "\n",
                "pd.options.display.max_rows = 1000\n",
                "%load_ext autoreload\n",
                "%autoreload 2"
            ]
        },
        {
            "cell_type": "code",
            "execution_count": null,
            "metadata": {},
            "outputs": [],
            "source": [
                "data_path = ut.get_data_path()"
            ]
        },
        {
            "cell_type": "code",
            "execution_count": null,
            "metadata": {},
            "outputs": [],
            "source": [
                "df = pd.read_csv(data_path / \"consolidated_DF_2019.csv\", parse_dates=[\"trip_start_time\", \"trip_stop_time\"])\n",
                "rng = np.random.default_rng(42)\n",
                "sampled_df = df.sample(n=200000, random_state=rng)\n",
                "df = sampled_df"
            ]
        },
        {
            "cell_type": "code",
            "execution_count": null,
            "metadata": {},
            "outputs": [],
            "source": [
                "df[\"trip_start_daily_minutes\"] = df[\"trip_start_time\"].apply(lambda x: x.hour*60 + x.minute)\n",
                "df[\"is_casual\"] = df[\"is_casual\"]*1"
            ]
        },
        {
            "cell_type": "code",
            "execution_count": null,
            "metadata": {},
            "outputs": [],
            "source": [
                "df[\"trip_binned_daytime\"] = np.floor(df[\"trip_start_daily_minutes\"]/(1*60)) # round down to hours\n",
                "df[\"trip_binned_daytime\"] = df[\"trip_binned_daytime\"].astype(int)"
            ]
        },
        {
            "cell_type": "code",
            "execution_count": null,
            "metadata": {},
            "outputs": [],
            "source": [
                "df[\"trip_binned_daytime\"].hist(bins=100)"
            ]
        },
        {
            "cell_type": "code",
            "execution_count": null,
            "metadata": {},
            "outputs": [],
            "source": [
                "oh_hours_df = pd.get_dummies(df[\"trip_binned_daytime\"])\n",
                "oh_station_id_df = pd.get_dummies(df[\"from_station_id\"])"
            ]
        },
        {
            "cell_type": "code",
            "execution_count": null,
            "metadata": {},
            "outputs": [],
            "source": [
                "df[\"trip_start_daily_minutes\"].hist(bins=100)"
            ]
        },
        {
            "cell_type": "code",
            "execution_count": null,
            "metadata": {},
            "outputs": [],
            "source": [
                "(df[\"trip_duration_seconds\"]).apply(np.log).hist(bins=100)"
            ]
        },
        {
            "cell_type": "code",
            "execution_count": null,
            "metadata": {},
            "outputs": [],
            "source": [
                "regression = sklearn.linear_model.LinearRegression()"
            ]
        },
        {
            "cell_type": "code",
            "execution_count": null,
            "metadata": {},
            "outputs": [],
            "source": [
                "hours_df = oh_hours_df.drop(columns = oh_hours_df.columns[0])"
            ]
        },
        {
            "cell_type": "code",
            "execution_count": null,
            "metadata": {},
            "outputs": [],
            "source": [
                "station_df = oh_station_id_df.drop(columns= oh_station_id_df.columns[0])"
            ]
        },
        {
            "cell_type": "code",
            "execution_count": null,
            "metadata": {},
            "outputs": [],
            "source": [
                "x_df = pd.concat([hours_df, station_df, df[\"is_casual\"]], axis=1)\n",
                "x_df.columns = [str(x) for x in x_df.columns]\n",
                "y = df[\"trip_duration_seconds\"]"
            ]
        },
        {
            "attachments": {},
            "cell_type": "markdown",
            "metadata": {},
            "source": [
                "Train/val/test-split .6/.2/.2"
            ]
        },
        {
            "cell_type": "code",
            "execution_count": null,
            "metadata": {},
            "outputs": [],
            "source": [
                "X_train, X_testval, y_train, y_testval = sklearn.model_selection.train_test_split(x_df, y, test_size=0.4, random_state=1337)\n",
                "X_val, X_test, y_val, y_test = sklearn.model_selection.train_test_split(X_testval, y_testval, test_size=0.5, random_state=7331)"
            ]
        },
        {
            "cell_type": "code",
            "execution_count": null,
            "metadata": {},
            "outputs": [],
            "source": [
                "model = regression.fit(X_train,y_train)"
            ]
        },
        {
            "cell_type": "code",
            "execution_count": null,
            "metadata": {},
            "outputs": [],
            "source": [
                "col_coeffs_sorted = bike_share.eval.get_regression_info(model)"
            ]
        },
        {
            "cell_type": "code",
            "execution_count": null,
            "metadata": {},
            "outputs": [],
            "source": [
                "[col_coeffs_sorted[i][1] for i in range(488) if col_coeffs_sorted[i][0] > 0 ]"
            ]
        },
        {
            "cell_type": "code",
            "execution_count": null,
            "metadata": {},
            "outputs": [],
            "source": [
                "bike_share.eval.regression_results(X_train, y_train, model)\n",
                "bike_share.eval.regression_results(X_val, y_val, model)\n",
                "bike_share.eval.regression_results(X_test, y_test, model)"
            ]
        }
    ],
    "metadata": {
        "kernelspec": {
            "display_name": "bike-share-SNdwzlkl-py3.10",
            "language": "python",
            "name": "python3"
        },
        "language_info": {
            "codemirror_mode": {
                "name": "ipython",
                "version": 3
            },
            "file_extension": ".py",
            "mimetype": "text/x-python",
            "name": "python",
            "nbconvert_exporter": "python",
            "pygments_lexer": "ipython3",
            "version": "3.10.6"
        },
        "orig_nbformat": 4,
        "vscode": {
            "interpreter": {
                "hash": "a5cbe51b1e267bbfe4730c20ed7fcc066a5fc9102417860e38179f77b6d39656"
            }
        }
    },
    "nbformat": 4,
    "nbformat_minor": 2
}
