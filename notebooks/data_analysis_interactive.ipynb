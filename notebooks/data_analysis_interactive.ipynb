{
 "cells": [
  {
   "cell_type": "code",
   "execution_count": null,
   "metadata": {},
   "outputs": [],
   "source": [
    "import pathlib\n",
    "import shutil\n",
    "import glob\n",
    "import os\n",
    "import re\n",
    "import ftfy\n",
    "import pandas as pd\n",
    "import statsmodels.api as sm\n",
    "import numpy as np\n",
    "\n",
    "import sklearn\n",
    "import sklearn.linear_model\n",
    "\n",
    "import bike_share.eval\n",
    "import bike_share.utils as ut\n",
    "\n",
    "pd.options.display.max_rows = 1000\n",
    "%load_ext autoreload\n",
    "%autoreload 2"
   ]
  },
  {
   "cell_type": "code",
   "execution_count": null,
   "metadata": {},
   "outputs": [],
   "source": [
    "data_path = ut.get_data_path()\n",
    "df = pd.read_csv(data_path / \"consolidated_DF_2019.csv\", parse_dates=[\"trip_start_time\", \"trip_stop_time\"])\n",
    "rng = np.random.default_rng(42)\n",
    "sampled_df = df.sample(n=200000, random_state=rng)\n",
    "df = sampled_df"
   ]
  }
 ],
 "metadata": {
  "kernelspec": {
   "display_name": "bike-share-SNdwzlkl-py3.10",
   "language": "python",
   "name": "python3"
  },
  "language_info": {
   "name": "python",
   "version": "3.10.6"
  },
  "orig_nbformat": 4,
  "vscode": {
   "interpreter": {
    "hash": "a5cbe51b1e267bbfe4730c20ed7fcc066a5fc9102417860e38179f77b6d39656"
   }
  }
 },
 "nbformat": 4,
 "nbformat_minor": 2
}
