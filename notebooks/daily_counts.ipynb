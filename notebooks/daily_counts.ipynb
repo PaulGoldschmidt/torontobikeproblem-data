{
 "cells": [
  {
   "cell_type": "code",
   "execution_count": null,
   "metadata": {},
   "outputs": [],
   "source": [
    "import pathlib\n",
    "import shutil\n",
    "import glob\n",
    "import os\n",
    "import re\n",
    "import ftfy\n",
    "import pandas as pd\n",
    "import statsmodels.api as sm\n",
    "import numpy as np\n",
    "import sklearn.metrics as metrics\n",
    "\n",
    "import sklearn\n",
    "import sklearn.linear_model\n",
    "\n",
    "import bike_share.utils as ut\n",
    "\n",
    "pd.options.display.max_rows = 1000\n",
    "%load_ext autoreload\n",
    "%autoreload 2"
   ]
  },
  {
   "cell_type": "code",
   "execution_count": null,
   "metadata": {},
   "outputs": [],
   "source": [
    "data_path = ut.get_data_path()\n",
    "wole_df = pd.read_csv(data_path / \"consolidated_DF_2019_2022.csv\", parse_dates=[\"trip_start_time\", \"trip_stop_time\"])\n",
    "df_grouped = wole_df.groupby(\"from_station_id\").resample(\"D\", on=\"trip_start_time\").count()\n",
    "\n",
    "# here, the column \"year\" is arbitrary ... we did use \"count\" so all columns have the same value\n",
    "daily_counts = df_grouped[\"year\"].reset_index()\n",
    "daily_counts = daily_counts.rename(columns = {\"year\" : \"count\"})"
   ]
  },
  {
   "cell_type": "code",
   "execution_count": null,
   "metadata": {},
   "outputs": [],
   "source": [
    "daily_counts.describe()"
   ]
  },
  {
   "cell_type": "code",
   "execution_count": null,
   "metadata": {},
   "outputs": [],
   "source": [
    "daily_counts[\"count\"].hist(bins=200)"
   ]
  },
  {
   "attachments": {},
   "cell_type": "markdown",
   "metadata": {},
   "source": [
    "https://toronto.weatherstats.ca/download.html (3 years ~ 1000 rows, so 2000 should be enough)"
   ]
  }
 ],
 "metadata": {
  "kernelspec": {
   "display_name": "bike-share-EaMkQB_Z-py3.10",
   "language": "python",
   "name": "python3"
  },
  "language_info": {
   "codemirror_mode": {
    "name": "ipython",
    "version": 3
   },
   "file_extension": ".py",
   "mimetype": "text/x-python",
   "name": "python",
   "nbconvert_exporter": "python",
   "pygments_lexer": "ipython3",
   "version": "3.10.6"
  },
  "orig_nbformat": 4,
  "vscode": {
   "interpreter": {
    "hash": "9cbeb47078aa45888cfdfe1cd418c35bbe08d87096f232f3b2802300757ee231"
   }
  }
 },
 "nbformat": 4,
 "nbformat_minor": 2
}
