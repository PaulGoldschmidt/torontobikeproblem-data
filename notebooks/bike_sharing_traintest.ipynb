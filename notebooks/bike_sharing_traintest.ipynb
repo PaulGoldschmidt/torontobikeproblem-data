{
 "cells": [
  {
   "attachments": {},
   "cell_type": "markdown",
   "metadata": {},
   "source": [
    "# Train/Val/Test split für bike_share-daten"
   ]
  },
  {
   "attachments": {},
   "cell_type": "markdown",
   "metadata": {},
   "source": [
    "bike_share-Daten sind eine *Zeitreihe* (d.h. die x-Werte sind geordnet nach Datum).\n",
    "Hier sollten Train/Val/Test-splits immer zusammenhängend sein -- sonst Leakage dadurch dass die Trainingsdaten \"in die Zukunft\" schauen können!\n",
    "Man baut sich am besten mehrere Train/Test-sets -- \"walk forward\" Methode: https://towardsdatascience.com/why-isnt-out-of-time-validation-more-ubiquitous-7397098c4ab6"
   ]
  },
  {
   "attachments": {},
   "cell_type": "markdown",
   "metadata": {},
   "source": [
    "siehe auch https://stats.stackexchange.com/questions/346907/splitting-time-series-data-into-train-test-validation-sets"
   ]
  }
 ],
 "metadata": {
  "kernelspec": {
   "display_name": "bike-share-SNdwzlkl-py3.10",
   "language": "python",
   "name": "python3"
  },
  "language_info": {
   "codemirror_mode": {
    "name": "ipython",
    "version": 3
   },
   "file_extension": ".py",
   "mimetype": "text/x-python",
   "name": "python",
   "nbconvert_exporter": "python",
   "pygments_lexer": "ipython3",
   "version": "3.10.6"
  },
  "orig_nbformat": 4,
  "vscode": {
   "interpreter": {
    "hash": "a5cbe51b1e267bbfe4730c20ed7fcc066a5fc9102417860e38179f77b6d39656"
   }
  }
 },
 "nbformat": 4,
 "nbformat_minor": 2
}
