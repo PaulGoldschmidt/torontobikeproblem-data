{
 "cells": [
  {
   "cell_type": "code",
   "execution_count": 1,
   "metadata": {},
   "outputs": [],
   "source": [
    "import pathlib\n",
    "import shutil\n",
    "import glob\n",
    "import os\n",
    "import re\n",
    "import ftfy\n",
    "import pandas as pd\n",
    "pd.options.display.max_rows = 1000\n",
    "%load_ext autoreload\n",
    "%autoreload 2"
   ]
  },
  {
   "cell_type": "code",
   "execution_count": 2,
   "metadata": {},
   "outputs": [],
   "source": [
    "import bike_share.data_loader as dl\n",
    "import bike_share.data_cleaning_sol as dc\n",
    "import bike_share.utils as ut"
   ]
  },
  {
   "cell_type": "code",
   "execution_count": 3,
   "metadata": {},
   "outputs": [
    {
     "name": "stdout",
     "output_type": "stream",
     "text": [
      "{'help': 'https://ckan0.cf.opendata.inter.prod-toronto.ca/api/3/action/help_show?name=resource_show', 'success': True, 'result': {'cache_last_updated': None, 'cache_url': None, 'created': '2019-07-23T16:40:47.062116', 'datastore_active': False, 'format': 'XLSX', 'hash': '', 'id': 'ad78f9f7-d4f2-42a1-9a1c-61dbc83f84c8', 'is_datastore_cache_file': False, 'is_preview': 'False', 'last_modified': '2022-04-12T14:38:55', 'metadata_modified': '2022-04-12T18:30:10.592092', 'mimetype': 'application/vnd.openxmlformats-officedocument.spreadsheetml.sheet', 'mimetype_inner': None, 'name': 'bikeshare-ridership-readme', 'package_id': '7e876c24-177c-4605-9cef-e50dd74c617f', 'position': 0, 'resource_type': None, 'revision_id': '890aa1da-c8d0-4535-a719-14786ce56443', 'size': 16625, 'state': 'active', 'url': 'https://ckan0.cf.opendata.inter.prod-toronto.ca/dataset/7e876c24-177c-4605-9cef-e50dd74c617f/resource/ad78f9f7-d4f2-42a1-9a1c-61dbc83f84c8/download/bikeshare-ridership-readme.xlsx', 'url_type': 'upload'}}\n",
      "File /home/maxi/research/bike_share/data/bikeshare-ridership-readme.xlsx already exists -- skipping download.\n",
      "{'help': 'https://ckan0.cf.opendata.inter.prod-toronto.ca/api/3/action/help_show?name=resource_show', 'success': True, 'result': {'cache_last_updated': None, 'cache_url': None, 'created': '2022-04-12T17:30:21.366312', 'datastore_active': False, 'extract_job': 'Airflow: upload_remote_files', 'format': 'XLSX', 'hash': '', 'id': '85326868-508c-497e-b139-b698aaf27bbf', 'is_datastore_cache_file': False, 'is_preview': 'False', 'last_modified': '2022-04-11T15:42:55', 'metadata_modified': '2022-04-12T18:30:13.762698', 'mimetype': 'application/vnd.openxmlformats-officedocument.spreadsheetml.sheet', 'mimetype_inner': None, 'name': 'bikeshare-ridership-2014-2015', 'package_id': '7e876c24-177c-4605-9cef-e50dd74c617f', 'position': 1, 'resource_type': None, 'size': 1465200, 'state': 'active', 'url': 'https://ckan0.cf.opendata.inter.prod-toronto.ca/dataset/7e876c24-177c-4605-9cef-e50dd74c617f/resource/85326868-508c-497e-b139-b698aaf27bbf/download/bikeshare-ridership-2014-2015.xlsx', 'url_type': 'upload'}}\n",
      "File /home/maxi/research/bike_share/data/bikeshare-ridership-2014-2015.xlsx already exists -- skipping download.\n",
      "{'help': 'https://ckan0.cf.opendata.inter.prod-toronto.ca/api/3/action/help_show?name=resource_show', 'success': True, 'result': {'cache_last_updated': None, 'cache_url': None, 'created': '2022-04-12T17:31:15.714081', 'datastore_active': False, 'extract_job': 'Airflow: upload_remote_files', 'format': 'XLSX', 'hash': '', 'id': '6814e3b2-9e57-4df6-915a-ad0dddda9ea5', 'is_datastore_cache_file': False, 'is_preview': 'False', 'last_modified': '2022-04-11T15:48:24', 'metadata_modified': '2022-04-12T18:30:42.405660', 'mimetype': 'application/vnd.openxmlformats-officedocument.spreadsheetml.sheet', 'mimetype_inner': None, 'name': 'bikeshare-ridership-2016', 'package_id': '7e876c24-177c-4605-9cef-e50dd74c617f', 'position': 2, 'resource_type': None, 'size': 28691320, 'state': 'active', 'url': 'https://ckan0.cf.opendata.inter.prod-toronto.ca/dataset/7e876c24-177c-4605-9cef-e50dd74c617f/resource/6814e3b2-9e57-4df6-915a-ad0dddda9ea5/download/bikeshare-ridership-2016.xlsx', 'url_type': 'upload'}}\n",
      "File /home/maxi/research/bike_share/data/bikeshare-ridership-2016.xlsx already exists -- skipping download.\n",
      "{'help': 'https://ckan0.cf.opendata.inter.prod-toronto.ca/api/3/action/help_show?name=resource_show', 'success': True, 'result': {'cache_last_updated': None, 'cache_url': None, 'created': '2019-07-23T16:40:45.902233', 'datastore_active': False, 'format': 'ZIP', 'hash': '', 'id': '98b63ba7-24ba-41da-a788-1c28d21a39d1', 'is_datastore_cache_file': False, 'is_preview': 'False', 'last_modified': '2022-04-11T15:48:57', 'metadata_modified': '2022-04-12T18:31:06.933400', 'mimetype': 'application/zip', 'mimetype_inner': None, 'name': 'bikeshare-ridership-2017', 'package_id': '7e876c24-177c-4605-9cef-e50dd74c617f', 'position': 3, 'resource_type': None, 'revision_id': '890aa1da-c8d0-4535-a719-14786ce56443', 'size': 24484084, 'state': 'active', 'url': 'https://ckan0.cf.opendata.inter.prod-toronto.ca/dataset/7e876c24-177c-4605-9cef-e50dd74c617f/resource/98b63ba7-24ba-41da-a788-1c28d21a39d1/download/bikeshare-ridership-2017.zip', 'url_type': 'upload'}}\n",
      "File /home/maxi/research/bike_share/data/bikeshare-ridership-2017.zip already exists -- skipping download.\n",
      "{'help': 'https://ckan0.cf.opendata.inter.prod-toronto.ca/api/3/action/help_show?name=resource_show', 'success': True, 'result': {'cache_last_updated': None, 'cache_url': None, 'created': '2022-04-12T17:31:49.407002', 'datastore_active': False, 'extract_job': 'Airflow: upload_remote_files', 'format': 'ZIP', 'hash': '', 'id': 'f4e91cc6-b925-46bb-bb89-aab0b618d9c2', 'is_datastore_cache_file': False, 'is_preview': 'False', 'last_modified': '2022-04-11T15:52:05', 'metadata_modified': '2022-04-12T18:31:41.045734', 'mimetype': 'application/zip', 'mimetype_inner': None, 'name': 'bikeshare-ridership-2018', 'package_id': '7e876c24-177c-4605-9cef-e50dd74c617f', 'position': 4, 'resource_type': None, 'size': 34011563, 'state': 'active', 'url': 'https://ckan0.cf.opendata.inter.prod-toronto.ca/dataset/7e876c24-177c-4605-9cef-e50dd74c617f/resource/f4e91cc6-b925-46bb-bb89-aab0b618d9c2/download/bikeshare-ridership-2018.zip', 'url_type': 'upload'}}\n",
      "File /home/maxi/research/bike_share/data/bikeshare-ridership-2018.zip already exists -- skipping download.\n",
      "{'help': 'https://ckan0.cf.opendata.inter.prod-toronto.ca/api/3/action/help_show?name=resource_show', 'success': True, 'result': {'cache_last_updated': None, 'cache_url': None, 'created': '2022-04-12T17:37:15.533135', 'datastore_active': False, 'extract_job': 'Airflow: upload_remote_files', 'format': 'ZIP', 'hash': '', 'id': 'f725ec3b-4f5c-4013-8a39-a512c44b44ba', 'is_datastore_cache_file': False, 'is_preview': 'False', 'last_modified': '2022-04-11T15:55:06', 'metadata_modified': '2022-04-12T18:36:59.529317', 'mimetype': 'application/zip', 'mimetype_inner': None, 'name': 'bikeshare-ridership-2019', 'package_id': '7e876c24-177c-4605-9cef-e50dd74c617f', 'position': 5, 'resource_type': None, 'size': 324112878, 'state': 'active', 'url': 'https://ckan0.cf.opendata.inter.prod-toronto.ca/dataset/7e876c24-177c-4605-9cef-e50dd74c617f/resource/f725ec3b-4f5c-4013-8a39-a512c44b44ba/download/bikeshare-ridership-2019.zip', 'url_type': 'upload'}}\n",
      "File /home/maxi/research/bike_share/data/bikeshare-ridership-2019.zip already exists -- skipping download.\n",
      "{'help': 'https://ckan0.cf.opendata.inter.prod-toronto.ca/api/3/action/help_show?name=resource_show', 'success': True, 'result': {'cache_last_updated': None, 'cache_url': None, 'created': '2022-04-12T17:43:40.259240', 'datastore_active': False, 'extract_job': 'Airflow: upload_remote_files', 'format': 'ZIP', 'hash': '', 'id': 'e534141d-92c6-4dd7-8ba1-bb061674d943', 'is_datastore_cache_file': False, 'is_preview': 'False', 'last_modified': '2022-04-11T15:55:11', 'metadata_modified': '2022-04-12T18:43:21.363729', 'mimetype': 'application/zip', 'mimetype_inner': None, 'name': 'bikeshare-ridership-2020', 'package_id': '7e876c24-177c-4605-9cef-e50dd74c617f', 'position': 6, 'resource_type': None, 'size': 389354150, 'state': 'active', 'url': 'https://ckan0.cf.opendata.inter.prod-toronto.ca/dataset/7e876c24-177c-4605-9cef-e50dd74c617f/resource/e534141d-92c6-4dd7-8ba1-bb061674d943/download/bikeshare-ridership-2020.zip', 'url_type': 'upload'}}\n",
      "File /home/maxi/research/bike_share/data/bikeshare-ridership-2020.zip already exists -- skipping download.\n",
      "{'help': 'https://ckan0.cf.opendata.inter.prod-toronto.ca/api/3/action/help_show?name=resource_show', 'success': True, 'result': {'cache_last_updated': None, 'cache_url': None, 'created': '2022-04-12T17:45:18.159448', 'datastore_active': False, 'extract_job': 'Airflow: upload_remote_files', 'format': 'ZIP', 'hash': '', 'id': 'ddc039f6-07fa-47a3-a707-0121ade3b307', 'is_datastore_cache_file': False, 'is_preview': 'False', 'last_modified': '2022-04-11T16:01:24', 'metadata_modified': '2022-04-12T18:44:52.168859', 'mimetype': 'application/zip', 'mimetype_inner': None, 'name': 'bikeshare-ridership-2021', 'package_id': '7e876c24-177c-4605-9cef-e50dd74c617f', 'position': 7, 'resource_type': None, 'size': 91552040, 'state': 'active', 'url': 'https://ckan0.cf.opendata.inter.prod-toronto.ca/dataset/7e876c24-177c-4605-9cef-e50dd74c617f/resource/ddc039f6-07fa-47a3-a707-0121ade3b307/download/bikeshare-ridership-2021.zip', 'url_type': 'upload'}}\n",
      "File /home/maxi/research/bike_share/data/bikeshare-ridership-2021.zip already exists -- skipping download.\n",
      "{'help': 'https://ckan0.cf.opendata.inter.prod-toronto.ca/api/3/action/help_show?name=resource_show', 'success': True, 'result': {'cache_last_updated': None, 'cache_url': None, 'created': '2022-04-12T17:45:27.432058', 'datastore_active': False, 'extract_job': 'Airflow: upload_remote_files', 'format': 'ZIP', 'hash': '', 'id': 'db10a7b1-2702-481c-b7f0-0c67070104bb', 'is_datastore_cache_file': False, 'is_preview': 'False', 'last_modified': '2023-01-18T17:36:31', 'metadata_modified': '2023-01-18T18:17:04.118417', 'mimetype': 'application/zip', 'mimetype_inner': None, 'name': 'bikeshare-ridership-2022', 'package_id': '7e876c24-177c-4605-9cef-e50dd74c617f', 'position': 8, 'resource_type': None, 'size': 7245692, 'state': 'active', 'url': 'https://ckan0.cf.opendata.inter.prod-toronto.ca/dataset/7e876c24-177c-4605-9cef-e50dd74c617f/resource/db10a7b1-2702-481c-b7f0-0c67070104bb/download/bikeshare-ridership-2022.zip', 'url_type': 'upload'}}\n",
      "File /home/maxi/research/bike_share/data/bikeshare-ridership-2022.zip already exists -- skipping download.\n",
      "Found ['/home/maxi/research/bike_share/data/bikeshare-ridership-2017.zip'].\n",
      "Path /home/maxi/research/bike_share/data/2017 already exists -- skipping extraction.\n",
      "Found ['/home/maxi/research/bike_share/data/bikeshare-ridership-2018.zip'].\n",
      "Path /home/maxi/research/bike_share/data/2018 already exists -- skipping extraction.\n",
      "Found ['/home/maxi/research/bike_share/data/bikeshare-ridership-2019.zip'].\n",
      "Path /home/maxi/research/bike_share/data/2019 already exists -- skipping extraction.\n",
      "Found ['/home/maxi/research/bike_share/data/bikeshare-ridership-2020.zip'].\n",
      "Path /home/maxi/research/bike_share/data/2020 already exists -- skipping extraction.\n",
      "Found ['/home/maxi/research/bike_share/data/bikeshare-ridership-2021.zip'].\n",
      "Path /home/maxi/research/bike_share/data/2021 already exists -- skipping extraction.\n",
      "Found ['/home/maxi/research/bike_share/data/bikeshare-ridership-2022.zip'].\n",
      "Path /home/maxi/research/bike_share/data/2022 already exists -- skipping extraction.\n"
     ]
    }
   ],
   "source": [
    "dl.download_bikeshare_data()"
   ]
  },
  {
   "cell_type": "code",
   "execution_count": 4,
   "metadata": {},
   "outputs": [],
   "source": [
    "log = ut.get_logger()"
   ]
  },
  {
   "cell_type": "code",
   "execution_count": 5,
   "metadata": {},
   "outputs": [],
   "source": [
    "data_path = pathlib.Path(\"../data/\")"
   ]
  },
  {
   "cell_type": "code",
   "execution_count": 6,
   "metadata": {},
   "outputs": [],
   "source": [
    "colname_dict = {\n",
    "    \"Trip Id\" : \"trip_id\",\n",
    "    \"Trip  Duration\" : \"trip_duration_seconds\",\n",
    "    \"Start Station Id\" : \"from_station_id\",\n",
    "    \"Start Station Name\" : \"from_station_name\",\n",
    "    \"End Station Id\" : \"to_station_id\",\n",
    "    \"End Station Name\" : \"to_station_name\",\n",
    "    \"Start Time\" : \"trip_start_time\",\n",
    "    \"End Time\" : \"trip_stop_time\",\n",
    "    \"Bike Id\" : \"bike_id\",\n",
    "    \"User Type\" : \"user_type\"\n",
    "}"
   ]
  },
  {
   "cell_type": "code",
   "execution_count": 9,
   "metadata": {},
   "outputs": [],
   "source": [
    "D = dc.get_clean_unified_df(data_path.absolute(), colname_dict, log, start_year=2022, end_year=2022)\n"
   ]
  }
 ],
 "metadata": {
  "kernelspec": {
   "display_name": "bike-share-EaMkQB_Z-py3.10",
   "language": "python",
   "name": "python3"
  },
  "language_info": {
   "codemirror_mode": {
    "name": "ipython",
    "version": 3
   },
   "file_extension": ".py",
   "mimetype": "text/x-python",
   "name": "python",
   "nbconvert_exporter": "python",
   "pygments_lexer": "ipython3",
   "version": "3.10.6"
  },
  "orig_nbformat": 4,
  "vscode": {
   "interpreter": {
    "hash": "9cbeb47078aa45888cfdfe1cd418c35bbe08d87096f232f3b2802300757ee231"
   }
  }
 },
 "nbformat": 4,
 "nbformat_minor": 2
}
