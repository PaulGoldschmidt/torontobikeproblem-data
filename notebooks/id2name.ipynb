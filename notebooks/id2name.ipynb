{
 "cells": [
  {
   "cell_type": "code",
   "execution_count": null,
   "metadata": {},
   "outputs": [],
   "source": [
    "import pathlib\n",
    "import shutil\n",
    "import glob\n",
    "import os\n",
    "import re\n",
    "import ftfy\n",
    "import pandas as pd\n",
    "\n",
    "import bike_share.utils as ut\n",
    "import bike_share.data_cleaning_sol as dc\n",
    "\n",
    "pd.options.display.max_rows = 5000\n",
    "%load_ext autoreload\n",
    "%autoreload 2"
   ]
  },
  {
   "cell_type": "code",
   "execution_count": null,
   "metadata": {},
   "outputs": [],
   "source": [
    "id2name = \"id2name.csv\"\n",
    "log = ut.get_logger()\n",
    "data_path = ut.get_data_path()"
   ]
  },
  {
   "cell_type": "code",
   "execution_count": null,
   "metadata": {},
   "outputs": [],
   "source": [
    "print(\"Reading 2019...\")\n",
    "df_19 = pd.concat(dc.get_dfs_for_year(data_path, log, 2019))\n",
    "print(\"Reading 2020...\")\n",
    "df_20 = pd.concat(dc.get_dfs_for_year(data_path, log, 2020))\n",
    "print(\"Reading 2021...\")\n",
    "df_21 = pd.concat(dc.get_dfs_for_year(data_path, log, 2021))\n",
    "print(\"Reading 2022...\")\n",
    "df_22 = pd.concat(dc.get_dfs_for_year(data_path, log, 2022))"
   ]
  },
  {
   "cell_type": "code",
   "execution_count": null,
   "metadata": {},
   "outputs": [],
   "source": [
    "ids19 = set(df_19[\"Start Station Id\"])\n",
    "ids20 = set(df_20[\"Start Station Id\"])\n",
    "ids21 = set(df_21[\"Start Station Id\"])\n",
    "ids22 = set(df_22[\"Start Station Id\"])"
   ]
  },
  {
   "cell_type": "code",
   "execution_count": null,
   "metadata": {},
   "outputs": [],
   "source": [
    "new_ids_20 = [i for i in ids20 if i not in ids19]\n",
    "discontinued_ids_20 = [i for i in ids19 if i not in ids20]\n",
    "new_ids_21 = [i for i in ids21 if i not in ids20]\n",
    "discontinued_ids_21 = [i for i in ids20 if i not in ids21]\n",
    "new_ids_22 = [i for i in ids22 if i not in ids21]\n",
    "discontinued_ids_22 = [i for i in ids21 if i not in ids22]"
   ]
  },
  {
   "cell_type": "code",
   "execution_count": null,
   "metadata": {},
   "outputs": [],
   "source": [
    "df_20.dtypes"
   ]
  },
  {
   "cell_type": "code",
   "execution_count": null,
   "metadata": {},
   "outputs": [],
   "source": [
    "set(df_20[\"Start Station Id\"])"
   ]
  },
  {
   "cell_type": "code",
   "execution_count": null,
   "metadata": {},
   "outputs": [],
   "source": [
    "# 2020-10.csv is strange... sigh"
   ]
  },
  {
   "cell_type": "code",
   "execution_count": null,
   "metadata": {},
   "outputs": [],
   "source": [
    "id2name19 = {i : df_19[\"Start Station Name\"]}"
   ]
  }
 ],
 "metadata": {
  "kernelspec": {
   "display_name": "bike-share-EaMkQB_Z-py3.10",
   "language": "python",
   "name": "python3"
  },
  "language_info": {
   "codemirror_mode": {
    "name": "ipython",
    "version": 3
   },
   "file_extension": ".py",
   "mimetype": "text/x-python",
   "name": "python",
   "nbconvert_exporter": "python",
   "pygments_lexer": "ipython3",
   "version": "3.10.6"
  },
  "orig_nbformat": 4,
  "vscode": {
   "interpreter": {
    "hash": "9cbeb47078aa45888cfdfe1cd418c35bbe08d87096f232f3b2802300757ee231"
   }
  }
 },
 "nbformat": 4,
 "nbformat_minor": 2
}
