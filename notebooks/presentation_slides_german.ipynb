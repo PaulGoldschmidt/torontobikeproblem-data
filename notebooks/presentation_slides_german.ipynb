{
 "cells": [
  {
   "cell_type": "markdown",
   "metadata": {
    "slideshow": {
     "slide_type": "notes"
    }
   },
   "source": [
    "Notebook als Präsentation bauen:\n",
    "``` $ jupyter nbconvert notebooks/presentation_slides_german.ipynb --to slides --post serve ```"
   ]
  },
  {
   "cell_type": "code",
   "execution_count": 1,
   "metadata": {
    "slideshow": {
     "slide_type": "skip"
    }
   },
   "outputs": [],
   "source": [
    "import pandas as pd\n",
    "import sklearn\n",
    "import sklearn.linear_model"
   ]
  },
  {
   "cell_type": "markdown",
   "metadata": {},
   "source": [
    "# Was ist Data Science?\n",
    "\n",
    "Kern: Aus histoischen Daten Vorhersagen treffen.\n",
    "\n",
    "Dafür gibt es viele Algorithmen.\n",
    "Eine einfache und weit verbreitete ist die lineare Regression."
   ]
  },
  {
   "cell_type": "markdown",
   "metadata": {
    "slideshow": {
     "slide_type": "slide"
    }
   },
   "source": [
    "# Lineare Regression\n",
    "\n",
    "Wir verwenden einen Mini-Datensatz der 1960 von Nancy Howell zum Studium des Volkes der ǃKung gesammelt wurde (https://en.wikipedia.org/wiki/%C7%83Kung_people) (und nur Personen <= 25 Jahre)\n"
   ]
  },
  {
   "cell_type": "code",
   "execution_count": 8,
   "metadata": {
    "slideshow": {
     "slide_type": "subslide"
    }
   },
   "outputs": [],
   "source": [
    "df = pd.read_csv(\"../data/Howell1_young.csv\")"
   ]
  },
  {
   "cell_type": "code",
   "execution_count": 9,
   "metadata": {
    "slideshow": {
     "slide_type": "subslide"
    }
   },
   "outputs": [
    {
     "data": {
      "text/html": [
       "<div>\n",
       "<style scoped>\n",
       "    .dataframe tbody tr th:only-of-type {\n",
       "        vertical-align: middle;\n",
       "    }\n",
       "\n",
       "    .dataframe tbody tr th {\n",
       "        vertical-align: top;\n",
       "    }\n",
       "\n",
       "    .dataframe thead th {\n",
       "        text-align: right;\n",
       "    }\n",
       "</style>\n",
       "<table border=\"1\" class=\"dataframe\">\n",
       "  <thead>\n",
       "    <tr style=\"text-align: right;\">\n",
       "      <th></th>\n",
       "      <th>Unnamed: 0</th>\n",
       "      <th>height</th>\n",
       "      <th>weight</th>\n",
       "      <th>age</th>\n",
       "      <th>male</th>\n",
       "    </tr>\n",
       "  </thead>\n",
       "  <tbody>\n",
       "    <tr>\n",
       "      <th>0</th>\n",
       "      <td>8</td>\n",
       "      <td>147.955</td>\n",
       "      <td>34.869885</td>\n",
       "      <td>19.0</td>\n",
       "      <td>0</td>\n",
       "    </tr>\n",
       "    <tr>\n",
       "      <th>1</th>\n",
       "      <td>13</td>\n",
       "      <td>149.900</td>\n",
       "      <td>47.700000</td>\n",
       "      <td>20.0</td>\n",
       "      <td>0</td>\n",
       "    </tr>\n",
       "    <tr>\n",
       "      <th>2</th>\n",
       "      <td>18</td>\n",
       "      <td>121.920</td>\n",
       "      <td>19.617854</td>\n",
       "      <td>12.0</td>\n",
       "      <td>1</td>\n",
       "    </tr>\n",
       "    <tr>\n",
       "      <th>3</th>\n",
       "      <td>19</td>\n",
       "      <td>105.410</td>\n",
       "      <td>13.947954</td>\n",
       "      <td>8.0</td>\n",
       "      <td>0</td>\n",
       "    </tr>\n",
       "    <tr>\n",
       "      <th>4</th>\n",
       "      <td>20</td>\n",
       "      <td>86.360</td>\n",
       "      <td>10.489315</td>\n",
       "      <td>6.5</td>\n",
       "      <td>0</td>\n",
       "    </tr>\n",
       "  </tbody>\n",
       "</table>\n",
       "</div>"
      ],
      "text/plain": [
       "   Unnamed: 0   height     weight   age  male\n",
       "0           8  147.955  34.869885  19.0     0\n",
       "1          13  149.900  47.700000  20.0     0\n",
       "2          18  121.920  19.617854  12.0     1\n",
       "3          19  105.410  13.947954   8.0     0\n",
       "4          20   86.360  10.489315   6.5     0"
      ]
     },
     "execution_count": 9,
     "metadata": {},
     "output_type": "execute_result"
    }
   ],
   "source": [
    "df.head()"
   ]
  },
  {
   "cell_type": "code",
   "execution_count": 4,
   "metadata": {
    "slideshow": {
     "slide_type": "subslide"
    }
   },
   "outputs": [
    {
     "data": {
      "text/plain": [
       "<AxesSubplot: xlabel='age', ylabel='height'>"
      ]
     },
     "execution_count": 4,
     "metadata": {},
     "output_type": "execute_result"
    },
    {
     "data": {
      "image/png": "[encoded data removed]",
      "text/plain": [
       "<Figure size 640x480 with 1 Axes>"
      ]
     },
     "metadata": {},
     "output_type": "display_data"
    }
   ],
   "source": [
    "df.plot.scatter(x=\"age\", y=\"height\")"
   ]
  },
  {
   "cell_type": "markdown",
   "metadata": {
    "slideshow": {
     "slide_type": "subslide"
    }
   },
   "source": [
    "Modell: $y =f(x)$ mit $f$ unbekannt und *linear*.\n",
    "\n",
    "$y = a\\cdot x + b$\n",
    "\n",
    "wähle $a,b$ so, dass $f$ \"gut\" zu den Daten passt $\\to$ die mittlere quadratische Abweichung zwischen f und den Datenpunkten ist minimal.\n"
   ]
  },
  {
   "cell_type": "markdown",
   "metadata": {
    "slideshow": {
     "slide_type": "subslide"
    }
   },
   "source": [
    "Gegeben n Paare von Datenpunkten $(x^{(1)}, y^{(1)}), ..., (x^{(n)}, y^{(n)})$\n",
    "suchen wir $a,b$ so dass der Ausdruck\n",
    "\n",
    "$\\frac{1}{n} \\sum_{i=1}^n (a\\cdot x^{(i)} + b - y^{(i)})^2$\n",
    "\n",
    "minimal wird."
   ]
  },
  {
   "cell_type": "code",
   "execution_count": 5,
   "metadata": {
    "slideshow": {
     "slide_type": "subslide"
    }
   },
   "outputs": [
    {
     "data": {
      "text/html": [
       "<style>#sk-container-id-1 {color: black;background-color: white;}#sk-container-id-1 pre{padding: 0;}#sk-container-id-1 div.sk-toggleable {background-color: white;}#sk-container-id-1 label.sk-toggleable__label {cursor: pointer;display: block;width: 100%;margin-bottom: 0;padding: 0.3em;box-sizing: border-box;text-align: center;}#sk-container-id-1 label.sk-toggleable__label-arrow:before {content: \"▸\";float: left;margin-right: 0.25em;color: #696969;}#sk-container-id-1 label.sk-toggleable__label-arrow:hover:before {color: black;}#sk-container-id-1 div.sk-estimator:hover label.sk-toggleable__label-arrow:before {color: black;}#sk-container-id-1 div.sk-toggleable__content {max-height: 0;max-width: 0;overflow: hidden;text-align: left;background-color: #f0f8ff;}#sk-container-id-1 div.sk-toggleable__content pre {margin: 0.2em;color: black;border-radius: 0.25em;background-color: #f0f8ff;}#sk-container-id-1 input.sk-toggleable__control:checked~div.sk-toggleable__content {max-height: 200px;max-width: 100%;overflow: auto;}#sk-container-id-1 input.sk-toggleable__control:checked~label.sk-toggleable__label-arrow:before {content: \"▾\";}#sk-container-id-1 div.sk-estimator input.sk-toggleable__control:checked~label.sk-toggleable__label {background-color: #d4ebff;}#sk-container-id-1 div.sk-label input.sk-toggleable__control:checked~label.sk-toggleable__label {background-color: #d4ebff;}#sk-container-id-1 input.sk-hidden--visually {border: 0;clip: rect(1px 1px 1px 1px);clip: rect(1px, 1px, 1px, 1px);height: 1px;margin: -1px;overflow: hidden;padding: 0;position: absolute;width: 1px;}#sk-container-id-1 div.sk-estimator {font-family: monospace;background-color: #f0f8ff;border: 1px dotted black;border-radius: 0.25em;box-sizing: border-box;margin-bottom: 0.5em;}#sk-container-id-1 div.sk-estimator:hover {background-color: #d4ebff;}#sk-container-id-1 div.sk-parallel-item::after {content: \"\";width: 100%;border-bottom: 1px solid gray;flex-grow: 1;}#sk-container-id-1 div.sk-label:hover label.sk-toggleable__label {background-color: #d4ebff;}#sk-container-id-1 div.sk-serial::before {content: \"\";position: absolute;border-left: 1px solid gray;box-sizing: border-box;top: 0;bottom: 0;left: 50%;z-index: 0;}#sk-container-id-1 div.sk-serial {display: flex;flex-direction: column;align-items: center;background-color: white;padding-right: 0.2em;padding-left: 0.2em;position: relative;}#sk-container-id-1 div.sk-item {position: relative;z-index: 1;}#sk-container-id-1 div.sk-parallel {display: flex;align-items: stretch;justify-content: center;background-color: white;position: relative;}#sk-container-id-1 div.sk-item::before, #sk-container-id-1 div.sk-parallel-item::before {content: \"\";position: absolute;border-left: 1px solid gray;box-sizing: border-box;top: 0;bottom: 0;left: 50%;z-index: -1;}#sk-container-id-1 div.sk-parallel-item {display: flex;flex-direction: column;z-index: 1;position: relative;background-color: white;}#sk-container-id-1 div.sk-parallel-item:first-child::after {align-self: flex-end;width: 50%;}#sk-container-id-1 div.sk-parallel-item:last-child::after {align-self: flex-start;width: 50%;}#sk-container-id-1 div.sk-parallel-item:only-child::after {width: 0;}#sk-container-id-1 div.sk-dashed-wrapped {border: 1px dashed gray;margin: 0 0.4em 0.5em 0.4em;box-sizing: border-box;padding-bottom: 0.4em;background-color: white;}#sk-container-id-1 div.sk-label label {font-family: monospace;font-weight: bold;display: inline-block;line-height: 1.2em;}#sk-container-id-1 div.sk-label-container {text-align: center;}#sk-container-id-1 div.sk-container {/* jupyter's `normalize.less` sets `[hidden] { display: none; }` but bootstrap.min.css set `[hidden] { display: none !important; }` so we also need the `!important` here to be able to override the default hidden behavior on the sphinx rendered scikit-learn.org. See: https://github.com/scikit-learn/scikit-learn/issues/21755 */display: inline-block !important;position: relative;}#sk-container-id-1 div.sk-text-repr-fallback {display: none;}</style><div id=\"sk-container-id-1\" class=\"sk-top-container\"><div class=\"sk-text-repr-fallback\"><pre>LinearRegression()</pre><b>In a Jupyter environment, please rerun this cell to show the HTML representation or trust the notebook. <br />On GitHub, the HTML representation is unable to render, please try loading this page with nbviewer.org.</b></div><div class=\"sk-container\" hidden><div class=\"sk-item\"><div class=\"sk-estimator sk-toggleable\"><input class=\"sk-toggleable__control sk-hidden--visually\" id=\"sk-estimator-id-1\" type=\"checkbox\" checked><label for=\"sk-estimator-id-1\" class=\"sk-toggleable__label sk-toggleable__label-arrow\">LinearRegression</label><div class=\"sk-toggleable__content\"><pre>LinearRegression()</pre></div></div></div></div></div>"
      ],
      "text/plain": [
       "LinearRegression()"
      ]
     },
     "execution_count": 5,
     "metadata": {},
     "output_type": "execute_result"
    }
   ],
   "source": [
    "linear_reg = sklearn.linear_model.LinearRegression()\n",
    "\n",
    "training_ind = \n",
    "\n",
    "x = df[[\"age\"]]\n",
    "y_true = df[\"height\"]\n",
    "\n",
    "linear_reg.fit(x,y_true) # berechnet a und b"
   ]
  },
  {
   "cell_type": "code",
   "execution_count": 6,
   "metadata": {
    "slideshow": {
     "slide_type": "subslide"
    }
   },
   "outputs": [
    {
     "name": "stdout",
     "output_type": "stream",
     "text": [
      "a = 3.6991808845422742, b = 78.39875682737627\n"
     ]
    }
   ],
   "source": [
    "a = linear_reg.coef_[0]\n",
    "b = linear_reg.intercept_\n",
    "print(f\"a = {a}, b = {b}\")"
   ]
  },
  {
   "cell_type": "code",
   "execution_count": 7,
   "metadata": {
    "slideshow": {
     "slide_type": "subslide"
    }
   },
   "outputs": [
    {
     "data": {
      "text/plain": [
       "<matplotlib.lines._AxLine at 0x7f8ea20d6c50>"
      ]
     },
     "execution_count": 7,
     "metadata": {},
     "output_type": "execute_result"
    },
    {
     "data": {
      "image/png": "[encoded data removed]",
      "text/plain": [
       "<Figure size 640x480 with 1 Axes>"
      ]
     },
     "metadata": {},
     "output_type": "display_data"
    }
   ],
   "source": [
    "ax = pd.DataFrame(list(zip(x.iloc[:,0],y_true))).plot.scatter(x=0, y=1)\n",
    "y_pred = linear_reg.predict(x)\n",
    "ax.axline((0,b), slope=a, color=\"darkred\")"
   ]
  },
  {
   "cell_type": "markdown",
   "metadata": {},
   "source": [
    "## Modell-Evaluation\n"
   ]
  },
  {
   "cell_type": "markdown",
   "metadata": {},
   "source": [
    "### Plot der Residuen\n",
    "\n",
    "Erinnerung: wir haben Datenpunkte $(x^{(i}, y^{(i})$\n",
    "Sei $\\hat{y^{(i}}$ die Vorhersage unseres Regressionsmodells für den $i$-ten Datenpunkt.\n",
    "Für jedes $i$ ist die Abweichung $r_i = \\hat{y^{(i}} - y^{(i})$. Diese nennen wir *Residuuen* und wenn unser Regressionsmodell auf die Daten passt, sollten diese Residuen keine systematischen Abweichungen (\"Bias\") zeigen.\n",
    "Wenn wir sie also plotten sollten sie zufällig um $0$ streuen.\n"
   ]
  },
  {
   "cell_type": "markdown",
   "metadata": {},
   "source": [
    "### $R^2$\n",
    "\n",
    "Das simpleste Modell für die Zielvariable, wäre einfach den Mittelwert der Trainingsdaten zu nehmen.\n",
    "Wir wollen die mittlere quadratische Abweichung unseres Modells gegen dieses \"Mittelwert-Modell\" vergleichen.\n",
    "Im schlechtesten Fall liefern wir das selbe, das soll einen Wert von $0$ ergeben. Im besten Fall ist die Abweichung von den Daten $0$, dann soll unsere Bewertung $1$ sein.\n",
    "\n",
    "$R^2 = 1 - \\frac{\\frac{1}{n} \\sum_i (y^{(i)} - \\hat{y^{(i)})}}{\\frac{1}{n} \\sum_i (y^{(i)} - \\bar{y})} = 1 - \\frac{\\sum_i (y^{(i)} - \\hat{y})}{\\sum_i (y^{(i)} - \\bar{y})}$\n",
    "\n"
   ]
  },
  {
   "cell_type": "markdown",
   "metadata": {},
   "source": [
    "Die Varianz (=Streuung) der Daten ist ihre mittlere quadratische Abweichung von ihrem Mittelwert $\\bar{y}$:\n",
    "\n",
    "$ \\frac{1}{n} \\sum_i (y^{(i)} - \\bar{y})^2 $\n",
    "\n",
    "Eine andere Interpretation von $R^2$ ist der Anteil der vom Modell \"erklärten\" Varianz der Daten\n",
    "$R^2 = 1 - \\frac{\\sum_i (y^{(i)} - \\hat{y})}{\\sum_i (y^{(i)} - \\bar{y})}$"
   ]
  },
  {
   "cell_type": "markdown",
   "metadata": {},
   "source": [
    "## Over/Underfitting"
   ]
  },
  {
   "cell_type": "markdown",
   "metadata": {
    "slideshow": {
     "slide_type": "slide"
    }
   },
   "source": [
    "# Projekt: Toronto Bike Sharing\n",
    "\n",
    "Wir haben Daten von Bike Share Toronto (https://bikesharetoronto.com/)\n",
    "Für jede Reise werden Daten (z.B. von wo nach wo, wie lange dauerte die Fahrt) gesammelt, die online verfügbar sind (https://open.toronto.ca/dataset/bike-share-toronto-ridership-data/).\n",
    "\n",
    "Wir wollen 1 Woche im Voraus vorhersagen, wie viele Räder an einem gewissen Tag an einer Station ausgeliehen werden."
   ]
  },
  {
   "cell_type": "markdown",
   "metadata": {
    "slideshow": {
     "slide_type": "subslide"
    }
   },
   "source": [
    "# Daten\n",
    "\n",
    "Bike Share Toronto, ~630 Stationen und ~7000 Räder.\n",
    "\n",
    "Die Datenfelder sind\n",
    "* Trip ID [int]\n",
    "* Trip Duration [s, int]\n",
    "* Trip Start Station ID [int]\n",
    "* Trip Start time [timestamp]\n",
    "* Trip Start Station Name [string]\n",
    "* Trip End Station ID [int]\n",
    "* Trip End Time [timestamp]\n",
    "* Trip End Station Name [string]\n",
    "* Bike ID [int]\n",
    "* User type [string, eigentlich boolean 0/1 (member/casual)]\n"
   ]
  },
  {
   "cell_type": "markdown",
   "metadata": {
    "slideshow": {
     "slide_type": "slide"
    }
   },
   "source": [
    "# Schritte \n",
    "1. Mache Dich mit den Daten vertraut (download, Einlesen)\n",
    "2. Hauptaufgabe: \n",
    "   a) Für jeden Tag und Station voraussagen, wie viele Fahrräder dort ausgeliehen werden.\n",
    "   b) Extrahiere aus den Daten weitere Features, die die Vorhersage verbessern.\n",
    "3. Mögliche Erweiterungen (erstmal ein Modell für Frage 2 bauen und evaluieren!):\n",
    " * Nutze weitere Datenquellen um die Vorhersage aus 2) zu verbessern (z.B. Wetter https://toronto.weatherstats.ca/download.html).\n",
    " * Was könnten andere Ziel-Variablen als \"tägliche Anzahl Ausleihvorgänge\" sein, die vielleicht für die Betreiber hilfreich(er) sind?\n",
    " * ..."
   ]
  },
  {
   "cell_type": "markdown",
   "metadata": {
    "slideshow": {
     "slide_type": "slide"
    }
   },
   "source": [
    "# Links\n",
    "\n",
    "## Nützliche Dokumentationen\n",
    "https://pandas.pydata.org/docs/user_guide/indexing.html\n",
    "\n",
    "https://pandas.pydata.org/docs/user_guide/merging.html\n",
    "\n",
    "https://pandas.pydata.org/docs/reference/api/pandas.DataFrame.groupby.html\n",
    "\n",
    "https://pandas.pydata.org/docs/reference/api/pandas.DataFrame.resample.html\n",
    "\n",
    "## weitere Links\n",
    "https://bikesharetoronto.com/faq/\n",
    "\n",
    "https://www.kaggle.com/code/yclaudel/see-the-flow-of-bikes/notebook\n",
    "(da wird auch beschrieben, wie man an die Stations-Daten https://tor.publicbikesystem.net/ube/gbfs/v1/en/station_information kommt)\n",
    "\n",
    "https://tellingstorieswithdata.com/inputs/pdfs/paper_one-2022-hudson_yuen.pdf\n",
    "\n",
    "https://toronto.weatherstats.ca/download.html (3 Jahre = 1095 Tage)\n",
    "\n",
    "https://opendata.stackexchange.com/questions/7793/age-weight-and-height-dataset (Referenz auf https://github.com/rmcelreath/rethinking/blob/master/data/Howell1.csv und https://github.com/rmcelreath/rethinking/blob/master/data/Howell2.csv)\n"
   ]
  }
 ],
 "metadata": {
  "celltoolbar": "Slideshow",
  "kernelspec": {
   "display_name": "Python 3 (ipykernel)",
   "language": "python",
   "name": "python3"
  },
  "language_info": {
   "codemirror_mode": {
    "name": "ipython",
    "version": 3
   },
   "file_extension": ".py",
   "mimetype": "text/x-python",
   "name": "python",
   "nbconvert_exporter": "python",
   "pygments_lexer": "ipython3",
   "version": "3.10.6"
  },
  "vscode": {
   "interpreter": {
    "hash": "9cbeb47078aa45888cfdfe1cd418c35bbe08d87096f232f3b2802300757ee231"
   }
  }
 },
 "nbformat": 4,
 "nbformat_minor": 2
}
