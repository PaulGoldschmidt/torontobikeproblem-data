{
 "cells": [
  {
   "cell_type": "markdown",
   "metadata": {
    "slideshow": {
     "slide_type": "notes"
    }
   },
   "source": [
    "Notebook als Präsentation bauen:\n",
    "``` $ jupyter nbconvert notebooks/presentation_slides_german.ipynb --to slides --post serve ```"
   ]
  },
  {
   "cell_type": "code",
   "execution_count": null,
   "metadata": {
    "slideshow": {
     "slide_type": "skip"
    }
   },
   "outputs": [],
   "source": [
    "import pandas as pd\n",
    "import numpy as np\n",
    "import sklearn\n",
    "import sklearn.linear_model"
   ]
  },
  {
   "cell_type": "markdown",
   "metadata": {},
   "source": [
    "# Was ist Data Science?\n",
    "\n",
    "Kern: Aus histoischen Daten Vorhersagen treffen.\n",
    "\n",
    "Dafür gibt es viele Algorithmen.\n",
    "Eine einfache und weit verbreitete ist die lineare Regression."
   ]
  },
  {
   "cell_type": "markdown",
   "metadata": {
    "slideshow": {
     "slide_type": "slide"
    }
   },
   "source": [
    "# Lineare Regression\n",
    "\n",
    "Wir verwenden einen Mini-Datensatz der 1960 von Nancy Howell zum Studium des Volkes der ǃKung gesammelt wurde (https://en.wikipedia.org/wiki/%C7%83Kung_people) (und nur Personen <= 25 Jahre)\n"
   ]
  },
  {
   "cell_type": "code",
   "execution_count": null,
   "metadata": {
    "slideshow": {
     "slide_type": "subslide"
    }
   },
   "outputs": [],
   "source": [
    "df = pd.read_csv(\"../data/Howell1_young.csv\")"
   ]
  },
  {
   "cell_type": "code",
   "execution_count": null,
   "metadata": {
    "slideshow": {
     "slide_type": "subslide"
    }
   },
   "outputs": [],
   "source": [
    "df.head()"
   ]
  },
  {
   "cell_type": "code",
   "execution_count": null,
   "metadata": {
    "slideshow": {
     "slide_type": "subslide"
    }
   },
   "outputs": [],
   "source": [
    "df.plot.scatter(x=\"age\", y=\"height\")"
   ]
  },
  {
   "cell_type": "markdown",
   "metadata": {
    "slideshow": {
     "slide_type": "subslide"
    }
   },
   "source": [
    "Modell: $y =f(x)$ mit $f$ unbekannt und *linear*.\n",
    "\n",
    "$y = a\\cdot x + b$\n",
    "\n",
    "wähle $a,b$ so, dass $f$ \"gut\" zu den Daten passt $\\to$ die mittlere quadratische Abweichung zwischen f und den Datenpunkten ist minimal.\n"
   ]
  },
  {
   "cell_type": "markdown",
   "metadata": {
    "slideshow": {
     "slide_type": "subslide"
    }
   },
   "source": [
    "Gegeben n Paare von Datenpunkten $(x^{(1)}, y^{(1)}), ..., (x^{(n)}, y^{(n)})$\n",
    "suchen wir $a,b$ so dass der Ausdruck\n",
    "\n",
    "$\\frac{1}{n} \\sum_{i=1}^n (a\\cdot x^{(i)} + b - y^{(i)})^2$\n",
    "\n",
    "minimal wird."
   ]
  },
  {
   "cell_type": "code",
   "execution_count": null,
   "metadata": {},
   "outputs": [],
   "source": [
    "N = df.shape[0]\n",
    "n = int(0.7 * N)\n",
    "\n",
    "rng = np.random.default_rng(42) # get a random-number generator with fixed seed (-> reproducibility!)\n",
    "\n",
    "training_indices = list(rng.choice(range(0, N), n))\n",
    "test_indices = list(set(range(0, N)).difference(set(training_indices))) # super inefficient but we don't care for such small numbers\n"
   ]
  },
  {
   "cell_type": "code",
   "execution_count": null,
   "metadata": {
    "slideshow": {
     "slide_type": "subslide"
    }
   },
   "outputs": [],
   "source": [
    "linear_reg = sklearn.linear_model.LinearRegression()\n",
    "\n",
    "x_train = df[[\"age\"]].iloc[training_indices]\n",
    "y_train = df[\"height\"].iloc[training_indices]\n",
    "\n",
    "x_test = df[[\"age\"]].iloc[test_indices]\n",
    "y_test = df[\"height\"].iloc[test_indices]\n",
    "\n",
    "\n",
    "linear_reg.fit(x_train,y_train) # berechnet a und b"
   ]
  },
  {
   "cell_type": "code",
   "execution_count": null,
   "metadata": {
    "slideshow": {
     "slide_type": "subslide"
    }
   },
   "outputs": [],
   "source": [
    "a = linear_reg.coef_[0]\n",
    "b = linear_reg.intercept_\n",
    "print(f\"a = {a}, b = {b}\")"
   ]
  },
  {
   "cell_type": "code",
   "execution_count": null,
   "metadata": {
    "slideshow": {
     "slide_type": "subslide"
    }
   },
   "outputs": [],
   "source": [
    "ax = pd.DataFrame(list(zip(x_train.iloc[:,0],y_train))).plot.scatter(x=0, y=1)\n",
    "y_pred = linear_reg.predict(x_train)\n",
    "ax.axline((0,b), slope=a, color=\"darkred\")"
   ]
  },
  {
   "attachments": {},
   "cell_type": "markdown",
   "metadata": {},
   "source": [
    "# Modell-Evaluation"
   ]
  },
  {
   "cell_type": "markdown",
   "metadata": {},
   "source": []
  },
  {
   "cell_type": "markdown",
   "metadata": {},
   "source": [
    "## Over/Underfitting"
   ]
  },
  {
   "cell_type": "markdown",
   "metadata": {},
   "source": []
  },
  {
   "cell_type": "markdown",
   "metadata": {
    "slideshow": {
     "slide_type": "slide"
    }
   },
   "source": [
    "# Projekt: Toronto Bike Sharing\n",
    "\n",
    "Wir haben Daten von Bike Share Toronto (https://bikesharetoronto.com/)\n",
    "Für jede Reise werden Daten (z.B. von wo nach wo, wie lange dauerte die Fahrt) gesammelt, die online verfügbar sind (https://open.toronto.ca/dataset/bike-share-toronto-ridership-data/).\n",
    "\n",
    "Wir wollen 1 Woche im Voraus vorhersagen, wie viele Räder an einem gewissen Tag an einer Station ausgeliehen werden."
   ]
  },
  {
   "cell_type": "markdown",
   "metadata": {
    "slideshow": {
     "slide_type": "subslide"
    }
   },
   "source": [
    "# Daten\n",
    "\n",
    "Bike Share Toronto, ~630 Stationen und ~7000 Räder.\n",
    "\n",
    "Die Datenfelder sind\n",
    "* Trip ID [int]\n",
    "* Trip Duration [s, int]\n",
    "* Trip Start Station ID [int]\n",
    "* Trip Start time [timestamp]\n",
    "* Trip Start Station Name [string]\n",
    "* Trip End Station ID [int]\n",
    "* Trip End Time [timestamp]\n",
    "* Trip End Station Name [string]\n",
    "* Bike ID [int]\n",
    "* User type [string, eigentlich boolean 0/1 (member/casual)]\n"
   ]
  },
  {
   "cell_type": "markdown",
   "metadata": {
    "slideshow": {
     "slide_type": "slide"
    }
   },
   "source": [
    "# Schritte \n",
    "1. Mache Dich mit den Daten vertraut (download, Einlesen)\n",
    "2. Hauptaufgabe: \n",
    "   a) Für jeden Tag und Station voraussagen, wie viele Fahrräder dort ausgeliehen werden.\n",
    "   b) Extrahiere aus den Daten weitere Features, die die Vorhersage verbessern.\n",
    "3. Mögliche Erweiterungen (erstmal ein Modell für Frage 2 bauen und evaluieren!):\n",
    " * Nutze weitere Datenquellen um die Vorhersage aus 2) zu verbessern (z.B. Wetter https://toronto.weatherstats.ca/download.html).\n",
    " * Was könnten andere Ziel-Variablen als \"tägliche Anzahl Ausleihvorgänge\" sein, die vielleicht für die Betreiber hilfreich(er) sind?\n",
    " * ..."
   ]
  },
  {
   "cell_type": "markdown",
   "metadata": {
    "slideshow": {
     "slide_type": "slide"
    }
   },
   "source": [
    "# Links\n",
    "\n",
    "## Nützliche Dokumentationen\n",
    "https://pandas.pydata.org/docs/user_guide/indexing.html\n",
    "\n",
    "https://pandas.pydata.org/docs/user_guide/merging.html\n",
    "\n",
    "https://pandas.pydata.org/docs/reference/api/pandas.DataFrame.groupby.html\n",
    "\n",
    "https://pandas.pydata.org/docs/reference/api/pandas.DataFrame.resample.html\n",
    "\n",
    "## weitere Links\n",
    "https://bikesharetoronto.com/faq/\n",
    "\n",
    "https://www.kaggle.com/code/yclaudel/see-the-flow-of-bikes/notebook\n",
    "(da wird auch beschrieben, wie man an die Stations-Daten https://tor.publicbikesystem.net/ube/gbfs/v1/en/station_information kommt)\n",
    "\n",
    "https://tellingstorieswithdata.com/inputs/pdfs/paper_one-2022-hudson_yuen.pdf\n",
    "\n",
    "https://toronto.weatherstats.ca/download.html (3 Jahre = 1095 Tage)\n",
    "\n",
    "https://opendata.stackexchange.com/questions/7793/age-weight-and-height-dataset (Referenz auf https://github.com/rmcelreath/rethinking/blob/master/data/Howell1.csv und https://github.com/rmcelreath/rethinking/blob/master/data/Howell2.csv)\n"
   ]
  }
 ],
 "metadata": {
  "celltoolbar": "Slideshow",
  "kernelspec": {
   "display_name": "Python 3 (ipykernel)",
   "language": "python",
   "name": "python3"
  },
  "language_info": {
   "codemirror_mode": {
    "name": "ipython",
    "version": 3
   },
   "file_extension": ".py",
   "mimetype": "text/x-python",
   "name": "python",
   "nbconvert_exporter": "python",
   "pygments_lexer": "ipython3",
   "version": "3.10.6"
  },
  "vscode": {
   "interpreter": {
    "hash": "9cbeb47078aa45888cfdfe1cd418c35bbe08d87096f232f3b2802300757ee231"
   }
  }
 },
 "nbformat": 4,
 "nbformat_minor": 2
}
